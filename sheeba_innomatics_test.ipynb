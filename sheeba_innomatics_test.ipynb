{
 "cells": [
  {
   "cell_type": "markdown",
   "id": "f4b9eb40",
   "metadata": {},
   "source": [
    "### Name : Sheeba Masalin"
   ]
  },
  {
   "cell_type": "code",
   "execution_count": 1,
   "id": "07e007ca",
   "metadata": {},
   "outputs": [],
   "source": [
    "import pandas as pd"
   ]
  },
  {
   "cell_type": "code",
   "execution_count": 19,
   "id": "9b0bed5c",
   "metadata": {},
   "outputs": [
    {
     "data": {
      "text/html": [
       "<div>\n",
       "<style scoped>\n",
       "    .dataframe tbody tr th:only-of-type {\n",
       "        vertical-align: middle;\n",
       "    }\n",
       "\n",
       "    .dataframe tbody tr th {\n",
       "        vertical-align: top;\n",
       "    }\n",
       "\n",
       "    .dataframe thead th {\n",
       "        text-align: right;\n",
       "    }\n",
       "</style>\n",
       "<table border=\"1\" class=\"dataframe\">\n",
       "  <thead>\n",
       "    <tr style=\"text-align: right;\">\n",
       "      <th></th>\n",
       "      <th>movieId</th>\n",
       "      <th>title</th>\n",
       "      <th>genres</th>\n",
       "    </tr>\n",
       "  </thead>\n",
       "  <tbody>\n",
       "    <tr>\n",
       "      <th>0</th>\n",
       "      <td>1</td>\n",
       "      <td>Toy Story (1995)</td>\n",
       "      <td>Adventure|Animation|Children|Comedy|Fantasy</td>\n",
       "    </tr>\n",
       "    <tr>\n",
       "      <th>1</th>\n",
       "      <td>2</td>\n",
       "      <td>Jumanji (1995)</td>\n",
       "      <td>Adventure|Children|Fantasy</td>\n",
       "    </tr>\n",
       "    <tr>\n",
       "      <th>2</th>\n",
       "      <td>3</td>\n",
       "      <td>Grumpier Old Men (1995)</td>\n",
       "      <td>Comedy|Romance</td>\n",
       "    </tr>\n",
       "    <tr>\n",
       "      <th>3</th>\n",
       "      <td>4</td>\n",
       "      <td>Waiting to Exhale (1995)</td>\n",
       "      <td>Comedy|Drama|Romance</td>\n",
       "    </tr>\n",
       "    <tr>\n",
       "      <th>4</th>\n",
       "      <td>5</td>\n",
       "      <td>Father of the Bride Part II (1995)</td>\n",
       "      <td>Comedy</td>\n",
       "    </tr>\n",
       "  </tbody>\n",
       "</table>\n",
       "</div>"
      ],
      "text/plain": [
       "   movieId                               title  \\\n",
       "0        1                    Toy Story (1995)   \n",
       "1        2                      Jumanji (1995)   \n",
       "2        3             Grumpier Old Men (1995)   \n",
       "3        4            Waiting to Exhale (1995)   \n",
       "4        5  Father of the Bride Part II (1995)   \n",
       "\n",
       "                                        genres  \n",
       "0  Adventure|Animation|Children|Comedy|Fantasy  \n",
       "1                   Adventure|Children|Fantasy  \n",
       "2                               Comedy|Romance  \n",
       "3                         Comedy|Drama|Romance  \n",
       "4                                       Comedy  "
      ]
     },
     "execution_count": 19,
     "metadata": {},
     "output_type": "execute_result"
    }
   ],
   "source": [
    "movie=pd.read_csv(\"movies.csv\")\n",
    "movie.head()"
   ]
  },
  {
   "cell_type": "code",
   "execution_count": 20,
   "id": "3464c11f",
   "metadata": {},
   "outputs": [
    {
     "data": {
      "text/html": [
       "<div>\n",
       "<style scoped>\n",
       "    .dataframe tbody tr th:only-of-type {\n",
       "        vertical-align: middle;\n",
       "    }\n",
       "\n",
       "    .dataframe tbody tr th {\n",
       "        vertical-align: top;\n",
       "    }\n",
       "\n",
       "    .dataframe thead th {\n",
       "        text-align: right;\n",
       "    }\n",
       "</style>\n",
       "<table border=\"1\" class=\"dataframe\">\n",
       "  <thead>\n",
       "    <tr style=\"text-align: right;\">\n",
       "      <th></th>\n",
       "      <th>userId</th>\n",
       "      <th>movieId</th>\n",
       "      <th>tag</th>\n",
       "      <th>timestamp</th>\n",
       "    </tr>\n",
       "  </thead>\n",
       "  <tbody>\n",
       "    <tr>\n",
       "      <th>0</th>\n",
       "      <td>2</td>\n",
       "      <td>60756</td>\n",
       "      <td>funny</td>\n",
       "      <td>1445714994</td>\n",
       "    </tr>\n",
       "    <tr>\n",
       "      <th>1</th>\n",
       "      <td>2</td>\n",
       "      <td>60756</td>\n",
       "      <td>Highly quotable</td>\n",
       "      <td>1445714996</td>\n",
       "    </tr>\n",
       "    <tr>\n",
       "      <th>2</th>\n",
       "      <td>2</td>\n",
       "      <td>60756</td>\n",
       "      <td>will ferrell</td>\n",
       "      <td>1445714992</td>\n",
       "    </tr>\n",
       "    <tr>\n",
       "      <th>3</th>\n",
       "      <td>2</td>\n",
       "      <td>89774</td>\n",
       "      <td>Boxing story</td>\n",
       "      <td>1445715207</td>\n",
       "    </tr>\n",
       "    <tr>\n",
       "      <th>4</th>\n",
       "      <td>2</td>\n",
       "      <td>89774</td>\n",
       "      <td>MMA</td>\n",
       "      <td>1445715200</td>\n",
       "    </tr>\n",
       "  </tbody>\n",
       "</table>\n",
       "</div>"
      ],
      "text/plain": [
       "   userId  movieId              tag   timestamp\n",
       "0       2    60756            funny  1445714994\n",
       "1       2    60756  Highly quotable  1445714996\n",
       "2       2    60756     will ferrell  1445714992\n",
       "3       2    89774     Boxing story  1445715207\n",
       "4       2    89774              MMA  1445715200"
      ]
     },
     "execution_count": 20,
     "metadata": {},
     "output_type": "execute_result"
    }
   ],
   "source": [
    "tag=pd.read_csv(\"tags.csv\")\n",
    "tag.head()"
   ]
  },
  {
   "cell_type": "code",
   "execution_count": 21,
   "id": "39671d40",
   "metadata": {},
   "outputs": [
    {
     "data": {
      "text/html": [
       "<div>\n",
       "<style scoped>\n",
       "    .dataframe tbody tr th:only-of-type {\n",
       "        vertical-align: middle;\n",
       "    }\n",
       "\n",
       "    .dataframe tbody tr th {\n",
       "        vertical-align: top;\n",
       "    }\n",
       "\n",
       "    .dataframe thead th {\n",
       "        text-align: right;\n",
       "    }\n",
       "</style>\n",
       "<table border=\"1\" class=\"dataframe\">\n",
       "  <thead>\n",
       "    <tr style=\"text-align: right;\">\n",
       "      <th></th>\n",
       "      <th>movieId</th>\n",
       "      <th>imdbId</th>\n",
       "      <th>tmdbId</th>\n",
       "    </tr>\n",
       "  </thead>\n",
       "  <tbody>\n",
       "    <tr>\n",
       "      <th>0</th>\n",
       "      <td>1</td>\n",
       "      <td>114709</td>\n",
       "      <td>862.0</td>\n",
       "    </tr>\n",
       "    <tr>\n",
       "      <th>1</th>\n",
       "      <td>2</td>\n",
       "      <td>113497</td>\n",
       "      <td>8844.0</td>\n",
       "    </tr>\n",
       "    <tr>\n",
       "      <th>2</th>\n",
       "      <td>3</td>\n",
       "      <td>113228</td>\n",
       "      <td>15602.0</td>\n",
       "    </tr>\n",
       "    <tr>\n",
       "      <th>3</th>\n",
       "      <td>4</td>\n",
       "      <td>114885</td>\n",
       "      <td>31357.0</td>\n",
       "    </tr>\n",
       "    <tr>\n",
       "      <th>4</th>\n",
       "      <td>5</td>\n",
       "      <td>113041</td>\n",
       "      <td>11862.0</td>\n",
       "    </tr>\n",
       "  </tbody>\n",
       "</table>\n",
       "</div>"
      ],
      "text/plain": [
       "   movieId  imdbId   tmdbId\n",
       "0        1  114709    862.0\n",
       "1        2  113497   8844.0\n",
       "2        3  113228  15602.0\n",
       "3        4  114885  31357.0\n",
       "4        5  113041  11862.0"
      ]
     },
     "execution_count": 21,
     "metadata": {},
     "output_type": "execute_result"
    }
   ],
   "source": [
    "link=pd.read_csv(\"links.csv\")\n",
    "link.head()"
   ]
  },
  {
   "cell_type": "code",
   "execution_count": 22,
   "id": "1a16d1c2",
   "metadata": {},
   "outputs": [
    {
     "data": {
      "text/html": [
       "<div>\n",
       "<style scoped>\n",
       "    .dataframe tbody tr th:only-of-type {\n",
       "        vertical-align: middle;\n",
       "    }\n",
       "\n",
       "    .dataframe tbody tr th {\n",
       "        vertical-align: top;\n",
       "    }\n",
       "\n",
       "    .dataframe thead th {\n",
       "        text-align: right;\n",
       "    }\n",
       "</style>\n",
       "<table border=\"1\" class=\"dataframe\">\n",
       "  <thead>\n",
       "    <tr style=\"text-align: right;\">\n",
       "      <th></th>\n",
       "      <th>userId</th>\n",
       "      <th>movieId</th>\n",
       "      <th>rating</th>\n",
       "      <th>timestamp</th>\n",
       "    </tr>\n",
       "  </thead>\n",
       "  <tbody>\n",
       "    <tr>\n",
       "      <th>0</th>\n",
       "      <td>1</td>\n",
       "      <td>1</td>\n",
       "      <td>4.0</td>\n",
       "      <td>964982703</td>\n",
       "    </tr>\n",
       "    <tr>\n",
       "      <th>1</th>\n",
       "      <td>1</td>\n",
       "      <td>3</td>\n",
       "      <td>4.0</td>\n",
       "      <td>964981247</td>\n",
       "    </tr>\n",
       "    <tr>\n",
       "      <th>2</th>\n",
       "      <td>1</td>\n",
       "      <td>6</td>\n",
       "      <td>4.0</td>\n",
       "      <td>964982224</td>\n",
       "    </tr>\n",
       "    <tr>\n",
       "      <th>3</th>\n",
       "      <td>1</td>\n",
       "      <td>47</td>\n",
       "      <td>5.0</td>\n",
       "      <td>964983815</td>\n",
       "    </tr>\n",
       "    <tr>\n",
       "      <th>4</th>\n",
       "      <td>1</td>\n",
       "      <td>50</td>\n",
       "      <td>5.0</td>\n",
       "      <td>964982931</td>\n",
       "    </tr>\n",
       "  </tbody>\n",
       "</table>\n",
       "</div>"
      ],
      "text/plain": [
       "   userId  movieId  rating  timestamp\n",
       "0       1        1     4.0  964982703\n",
       "1       1        3     4.0  964981247\n",
       "2       1        6     4.0  964982224\n",
       "3       1       47     5.0  964983815\n",
       "4       1       50     5.0  964982931"
      ]
     },
     "execution_count": 22,
     "metadata": {},
     "output_type": "execute_result"
    }
   ],
   "source": [
    "rating=pd.read_csv(\"ratings.csv\")\n",
    "rating.head()"
   ]
  },
  {
   "cell_type": "code",
   "execution_count": 6,
   "id": "e711fbe9",
   "metadata": {},
   "outputs": [
    {
     "name": "stdout",
     "output_type": "stream",
     "text": [
      "(9742, 3)\n"
     ]
    }
   ],
   "source": [
    "print(movie.shape)"
   ]
  },
  {
   "cell_type": "code",
   "execution_count": 7,
   "id": "39b6e461",
   "metadata": {},
   "outputs": [
    {
     "name": "stdout",
     "output_type": "stream",
     "text": [
      "(100836, 4)\n"
     ]
    }
   ],
   "source": [
    "print(rating.shape)"
   ]
  },
  {
   "cell_type": "code",
   "execution_count": 9,
   "id": "d5e868d3",
   "metadata": {},
   "outputs": [
    {
     "name": "stdout",
     "output_type": "stream",
     "text": [
      "Number of unique userId: 610\n"
     ]
    }
   ],
   "source": [
    "unique_users = rating['userId'].nunique()\n",
    "print(\"Number of unique userId:\", unique_users)\n"
   ]
  },
  {
   "cell_type": "code",
   "execution_count": 11,
   "id": "20f6fbfb",
   "metadata": {},
   "outputs": [
    {
     "name": "stdout",
     "output_type": "stream",
     "text": [
      "Movie with the maximum number of user ratings:\n",
      "                   title                    genres\n",
      "314  Forrest Gump (1994)  Comedy|Drama|Romance|War\n"
     ]
    }
   ],
   "source": [
    "movie_ratings_count = rating.groupby('movieId')['rating'].count()\n",
    "max_rated_movie_id = movie_ratings_count.idxmax()\n",
    "movies = pd.read_csv(\"movies.csv\")\n",
    "max_rated_movie = movies[movies['movieId'] == max_rated_movie_id]\n",
    "print(\"Movie with the maximum number of user ratings:\")\n",
    "print(max_rated_movie[['title', 'genres']])"
   ]
  },
  {
   "cell_type": "code",
   "execution_count": 15,
   "id": "dffc2d92",
   "metadata": {},
   "outputs": [
    {
     "name": "stdout",
     "output_type": "stream",
     "text": [
      "Tags submitted for 'Matrix, The (1999)':\n",
      "['martial arts' 'sci-fi' 'alternate universe' 'philosophy'\n",
      " 'post apocalyptic']\n"
     ]
    }
   ],
   "source": [
    "matrix_movie_id = 2571\n",
    "matrix_tags = tag[(tag['movieId'] == matrix_movie_id) & (tag['tag'].notnull())]\n",
    "unique_tags = matrix_tags['tag'].unique()\n",
    "print(\"Tags submitted for 'Matrix, The (1999)':\")\n",
    "print(unique_tags)"
   ]
  },
  {
   "cell_type": "code",
   "execution_count": 16,
   "id": "e3d4b691",
   "metadata": {},
   "outputs": [
    {
     "name": "stdout",
     "output_type": "stream",
     "text": [
      "Average user rating for 'Terminator 2: Judgment Day (1991)': 3.970982142857143\n"
     ]
    }
   ],
   "source": [
    "ratings_df = pd.read_csv(ratings_file_path)\n",
    "movies_df = pd.read_csv(movies_file_path)\n",
    "terminator_movie = movies_df[movies_df['title'] == 'Terminator 2: Judgment Day (1991)']\n",
    "merged_df = pd.merge(ratings_df, terminator_movie, on='movieId')\n",
    "average_rating = merged_df['rating'].mean()\n",
    "print(\"Average user rating for 'Terminator 2: Judgment Day (1991)':\", average_rating)"
   ]
  },
  {
   "cell_type": "code",
   "execution_count": 17,
   "id": "92e84a85",
   "metadata": {
    "scrolled": true
   },
   "outputs": [
    {
     "data": {
      "image/png": "[encoded data removed]",
      "text/plain": [
       "<Figure size 720x432 with 1 Axes>"
      ]
     },
     "metadata": {
      "needs_background": "light"
     },
     "output_type": "display_data"
    }
   ],
   "source": [
    "movie_title = \"Fight Club (1999)\"\n",
    "movie_id = movies[movies['title'] == movie_title]['movieId'].values[0]\n",
    "movie_ratings = ratings[ratings['movieId'] == movie_id]\n",
    "plt.figure(figsize=(10, 6))\n",
    "plt.hist(movie_ratings['rating'], bins=5, edgecolor='black', color='skyblue')\n",
    "plt.title(f'Distribution of User Ratings for \"{movie_title}\" (1999)')\n",
    "plt.xlabel('Rating')\n",
    "plt.ylabel('Number of Ratings')\n",
    "plt.show()"
   ]
  },
  {
   "cell_type": "code",
   "execution_count": 18,
   "id": "42217245",
   "metadata": {},
   "outputs": [
    {
     "name": "stdout",
     "output_type": "stream",
     "text": [
      "Most popular movie based on average user ratings among the selected ones:\n",
      "                                title       genres    rating\n",
      "277  Shawshank Redemption, The (1994)  Crime|Drama  4.429022\n"
     ]
    }
   ],
   "source": [
    "average_ratings = ratings.groupby('movieId')['rating'].mean()\n",
    "movies_with_avg_ratings = movies.join(average_ratings, on='movieId')\n",
    "selected_movies = [\"Godfather, The (1972)\", \"Shawshank Redemption, The (1994)\", \"Jumanji (1995)\", \"Wolf of Wall Street, The (2013)\"]\n",
    "selected_movies_info = movies_with_avg_ratings[movies_with_avg_ratings['title'].isin(selected_movies)]\n",
    "most_popular_selected_movie = selected_movies_info[selected_movies_info['rating'] == selected_movies_info['rating'].max()]\n",
    "print(\"Most popular movie based on average user ratings among the selected ones:\")\n",
    "print(most_popular_selected_movie[['title', 'genres', 'rating']])"
   ]
  },
  {
   "cell_type": "code",
   "execution_count": 24,
   "id": "59ecfdc8",
   "metadata": {},
   "outputs": [
    {
     "name": "stdout",
     "output_type": "stream",
     "text": [
      "Top 5 popular movies based on the number of user ratings:\n",
      "314                  Forrest Gump (1994)\n",
      "277     Shawshank Redemption, The (1994)\n",
      "257                  Pulp Fiction (1994)\n",
      "510     Silence of the Lambs, The (1991)\n",
      "1938                  Matrix, The (1999)\n",
      "Name: title, dtype: object\n"
     ]
    }
   ],
   "source": [
    "movies_df = pd.read_csv(movies_file_path)\n",
    "grouped_ratings = ratings_df.groupby('movieId')['rating'].agg(['count', 'mean']).reset_index()\n",
    "merged_df = pd.merge(movies_df, grouped_ratings, on='movieId', how='inner')\n",
    "filtered_movies = merged_df[merged_df['count'] > 50]\n",
    "sorted_movies = filtered_movies.sort_values(by='count', ascending=False)\n",
    "top_5_movies = sorted_movies.head(5)\n",
    "print(\"Top 5 popular movies based on the number of user ratings:\")\n",
    "print(top_5_movies['title'])"
   ]
  },
  {
   "cell_type": "code",
   "execution_count": 25,
   "id": "a28d1835",
   "metadata": {},
   "outputs": [
    {
     "name": "stdout",
     "output_type": "stream",
     "text": [
      "Third most popular Sci-Fi movie based on the number of user ratings:\n",
      "Jurassic Park (1993)\n"
     ]
    }
   ],
   "source": [
    "grouped_ratings = ratings_df.groupby('movieId')['rating'].agg(['count', 'mean']).reset_index()\n",
    "merged_df = pd.merge(movies_df, grouped_ratings, on='movieId', how='inner')\n",
    "filtered_movies = merged_df[merged_df['count'] > 50]\n",
    "sci_fi_movies = filtered_movies[filtered_movies['genres'].str.contains('Sci-Fi')]\n",
    "sorted_sci_fi_movies = sci_fi_movies.sort_values(by='count', ascending=False)\n",
    "third_most_popular_sci_fi = sorted_sci_fi_movies.iloc[2]\n",
    "print(\"Third most popular Sci-Fi movie based on the number of user ratings:\")\n",
    "print(third_most_popular_sci_fi['title'])"
   ]
  },
  {
   "cell_type": "code",
   "execution_count": 26,
   "id": "ded8dd8b",
   "metadata": {},
   "outputs": [
    {
     "name": "stdout",
     "output_type": "stream",
     "text": [
      "MovieId of the movie with the highest average user rating: 53\n"
     ]
    }
   ],
   "source": [
    "average_ratings = ratings_df.groupby('movieId')['rating'].mean().reset_index()\n",
    "highest_rated_movie_id = average_ratings.loc[average_ratings['rating'].idxmax(), 'movieId']\n",
    "print(\"MovieId of the movie with the highest average user rating:\", highest_rated_movie_id)"
   ]
  },
  {
   "cell_type": "code",
   "execution_count": 27,
   "id": "4622107f",
   "metadata": {},
   "outputs": [
    {
     "name": "stdout",
     "output_type": "stream",
     "text": [
      "MovieId of the Sci-Fi movie with the highest average user rating (IMDb): 3687\n"
     ]
    }
   ],
   "source": [
    "grouped_ratings = ratings_df.groupby('movieId')['rating'].agg(['count', 'mean']).reset_index()\n",
    "merged_df = pd.merge(movies_df, grouped_ratings, on='movieId', how='inner')\n",
    "sci_fi_movies = merged_df[merged_df['genres'].str.contains('Sci-Fi')]\n",
    "highest_rated_sci_fi_movie = sci_fi_movies.loc[sci_fi_movies['mean'].idxmax(), 'movieId']\n",
    "print(\"MovieId of the Sci-Fi movie with the highest average user rating (IMDb):\", highest_rated_sci_fi_movie)"
   ]
  },
  {
   "cell_type": "code",
   "execution_count": null,
   "id": "5d549035",
   "metadata": {},
   "outputs": [],
   "source": []
  }
 ],
 "metadata": {
  "kernelspec": {
   "display_name": "Python 3 (ipykernel)",
   "language": "python",
   "name": "python3"
  },
  "language_info": {
   "codemirror_mode": {
    "name": "ipython",
    "version": 3
   },
   "file_extension": ".py",
   "mimetype": "text/x-python",
   "name": "python",
   "nbconvert_exporter": "python",
   "pygments_lexer": "ipython3",
   "version": "3.9.12"
  }
 },
 "nbformat": 4,
 "nbformat_minor": 5
}
